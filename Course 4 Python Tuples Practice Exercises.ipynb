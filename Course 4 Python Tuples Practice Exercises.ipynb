{
 "cells": [
  {
   "cell_type": "markdown",
   "metadata": {
    "id": "vkIYbnzzqEMl"
   },
   "source": [
    "# Python Tuples Exercises"
   ]
  },
  {
   "cell_type": "code",
   "execution_count": 1,
   "metadata": {
    "id": "dAz15Px8qEMn",
    "tags": []
   },
   "outputs": [],
   "source": [
    "#Q1 Create myTuple tuple with the follwoing values\n",
    "#(\"NPower\",\"JDA\",\"Tuesday\",30,3,2021)\n",
    "myTuple = (\"NPower\",\"JDA\",\"Tuesday\",30,3,2021)"
   ]
  },
  {
   "cell_type": "code",
   "execution_count": 2,
   "metadata": {
    "id": "ZkwBzWQmqEMp",
    "tags": []
   },
   "outputs": [
    {
     "name": "stdout",
     "output_type": "stream",
     "text": [
      "<class 'tuple'>\n"
     ]
    }
   ],
   "source": [
    "#Q2 What is the type of myTuple\n",
    "print(type(myTuple))"
   ]
  },
  {
   "cell_type": "code",
   "execution_count": 3,
   "metadata": {
    "id": "WveCjyrFqEMp",
    "tags": []
   },
   "outputs": [
    {
     "name": "stdout",
     "output_type": "stream",
     "text": [
      "6\n"
     ]
    }
   ],
   "source": [
    "#Q3 What is the length of myTuple\n",
    "print(len(myTuple))"
   ]
  },
  {
   "cell_type": "code",
   "execution_count": 35,
   "metadata": {
    "id": "sugs96-iqEMp",
    "tags": []
   },
   "outputs": [
    {
     "name": "stdout",
     "output_type": "stream",
     "text": [
      "('NPower', 'JDA', 'Tuesday', 30, 3, 2021)\n"
     ]
    }
   ],
   "source": [
    "#Q4 print the values in each index #Use regular indexing\n",
    "print(myTuple[0:])"
   ]
  },
  {
   "cell_type": "code",
   "execution_count": 39,
   "metadata": {
    "id": "ZQyUTNVyqEMq",
    "tags": []
   },
   "outputs": [
    {
     "name": "stdout",
     "output_type": "stream",
     "text": [
      "('NPower', 'JDA', 'Tuesday', 30, 3, 2021)\n"
     ]
    }
   ],
   "source": [
    "#Q5 print the values in each index #Use negative indexing\n",
    "print(myTuple[-6:])"
   ]
  },
  {
   "cell_type": "code",
   "execution_count": 4,
   "metadata": {
    "id": "XxjeMswpqEMq",
    "tags": []
   },
   "outputs": [
    {
     "name": "stdout",
     "output_type": "stream",
     "text": [
      "<class 'str'>\n",
      "<class 'str'>\n",
      "<class 'str'>\n",
      "<class 'int'>\n",
      "<class 'int'>\n",
      "<class 'int'>\n"
     ]
    }
   ],
   "source": [
    "#Q6 what is the type of each value\n",
    "for x in myTuple:\n",
    "    print(type(x))"
   ]
  },
  {
   "cell_type": "code",
   "execution_count": 25,
   "metadata": {
    "id": "Y8eDJKH2qEMq",
    "tags": []
   },
   "outputs": [],
   "source": [
    "#Q7 unpack myTuple in the follwoeing variables\n",
    "#name,program,dayName,month,day,year accordingly\n",
    "# print the variables\n",
    "(name,program,dayName,month,day,year) = myTuple"
   ]
  },
  {
   "cell_type": "code",
   "execution_count": 28,
   "metadata": {
    "id": "SBW5r9TyqEMq",
    "tags": []
   },
   "outputs": [
    {
     "ename": "ValueError",
     "evalue": "too many values to unpack (expected 3)",
     "output_type": "error",
     "traceback": [
      "\u001b[0;31m---------------------------------------------------------------------------\u001b[0m",
      "\u001b[0;31mValueError\u001b[0m                                Traceback (most recent call last)",
      "\u001b[0;32m/tmp/ipykernel_2342/3460771252.py\u001b[0m in \u001b[0;36m<module>\u001b[0;34m\u001b[0m\n\u001b[1;32m      2\u001b[0m \u001b[0;31m# What will happen to variables (name,program,dayName) and (month,day,year)\u001b[0m\u001b[0;34m\u001b[0m\u001b[0;34m\u001b[0m\u001b[0;34m\u001b[0m\u001b[0m\n\u001b[1;32m      3\u001b[0m \u001b[0mmyTuple2\u001b[0m \u001b[0;34m=\u001b[0m \u001b[0mmyTuple\u001b[0m\u001b[0;34m\u001b[0m\u001b[0;34m\u001b[0m\u001b[0m\n\u001b[0;32m----> 4\u001b[0;31m \u001b[0;34m(\u001b[0m\u001b[0mname\u001b[0m\u001b[0;34m,\u001b[0m\u001b[0mprogram\u001b[0m\u001b[0;34m,\u001b[0m\u001b[0mdayName\u001b[0m\u001b[0;34m)\u001b[0m \u001b[0;34m=\u001b[0m \u001b[0mmyTuple2\u001b[0m\u001b[0;34m\u001b[0m\u001b[0;34m\u001b[0m\u001b[0m\n\u001b[0m",
      "\u001b[0;31mValueError\u001b[0m: too many values to unpack (expected 3)"
     ]
    }
   ],
   "source": [
    "#Q8 unpack myTuple2 in the follwoeing variables name,program,dayName.\n",
    "# What will happen to variables (name,program,dayName) and (month,day,year)\n",
    "myTuple2 = myTuple\n",
    "(name,program,dayName) = myTuple2"
   ]
  },
  {
   "cell_type": "code",
   "execution_count": 5,
   "metadata": {
    "id": "utPJFS1-qEMr",
    "tags": []
   },
   "outputs": [
    {
     "name": "stdout",
     "output_type": "stream",
     "text": [
      "Type a <class 'str'>\n",
      "Jerry 2 89\n",
      "<class 'tuple'>\n",
      "('Ulan',)\n",
      "Leul\n"
     ]
    }
   ],
   "source": [
    "# Note the following\n",
    "Tuple1=(\"Jerry\",2,89) #This is a tuple with 3 elements\n",
    "Tuple2=(\"Ulan\",)#This is a tuple with 1 element\n",
    "test=\"Leul\" #This is a VARIABLE with string value\n",
    "\n",
    "a,b,c=Tuple1\n",
    "print(\"Type a\",type(a))\n",
    "print(a,b,c)\n",
    "\n",
    "d=Tuple2\n",
    "print(type(d))\n",
    "print(d)\n",
    "\n",
    "e=test\n",
    "print(e)"
   ]
  },
  {
   "cell_type": "code",
   "execution_count": 7,
   "metadata": {
    "id": "MfDSF2HOqEMr",
    "tags": []
   },
   "outputs": [
    {
     "name": "stdout",
     "output_type": "stream",
     "text": [
      "(1, 2, 3)\n",
      "(4, 5, 6)\n",
      "Tuple is immutable\n"
     ]
    }
   ],
   "source": [
    "#Tuples are immutable\n",
    "#we can always make the testTuple variable reference a new tuple in the memory\n",
    "#and hold a different information\n",
    "\n",
    "testTuple=(1,2,3)\n",
    "print(testTuple)\n",
    "\n",
    "testTuple=(4,5,6)\n",
    "print(testTuple)\n",
    "\n",
    "#But we can't change or edit a value for the existing tuple\n",
    "\n",
    "try:\n",
    "    testTuple[0]=6 #ERROR 'tuple' object does not support item assignment\n",
    "except:\n",
    "    print(\"Tuple is immutable\")"
   ]
  },
  {
   "cell_type": "code",
   "execution_count": 8,
   "metadata": {
    "id": "vAL32myPqEMs",
    "tags": []
   },
   "outputs": [
    {
     "name": "stdout",
     "output_type": "stream",
     "text": [
      "(2021, 3, 30, 'Tuesday', 'JDA', 'NPower')\n"
     ]
    }
   ],
   "source": [
    "#Q9 Reverse myTuple, output should looks like\n",
    "#(2021,3,30,\"Tuesday\",\"JDA\",\"NPower\")\n",
    "print(myTuple[::-1])"
   ]
  },
  {
   "cell_type": "code",
   "execution_count": 9,
   "metadata": {
    "id": "dex_5qK7qEMs",
    "tags": []
   },
   "outputs": [],
   "source": [
    "#Q10 Create nestedTuple=((\"Coursera\",\"course\",6),(\"week\",(2,\"Lists\",\"Tuple\")))\n",
    "nestedTuple=((\"Coursera\",\"course\",6),(\"week\",(2,\"Lists\",\"Tuple\")))"
   ]
  },
  {
   "cell_type": "code",
   "execution_count": 10,
   "metadata": {
    "id": "zdFdsqpYqEMs",
    "tags": []
   },
   "outputs": [
    {
     "name": "stdout",
     "output_type": "stream",
     "text": [
      "(('week', (2, 'Lists', 'Tuple')),)\n"
     ]
    }
   ],
   "source": [
    "#Q11 What is the output of nestedTuple[1:2]\n",
    "print(nestedTuple[1:2])"
   ]
  },
  {
   "cell_type": "code",
   "execution_count": 22,
   "metadata": {
    "id": "FgdTuIfeqEMs",
    "tags": []
   },
   "outputs": [
    {
     "data": {
      "text/plain": [
       "['Coursera', 'course', 6, 'week', (2, 'Lists', 'Tuple')]"
      ]
     },
     "execution_count": 22,
     "metadata": {},
     "output_type": "execute_result"
    }
   ],
   "source": [
    "#Q12 print each element in the nestedTuple\n",
    "[item for sublist in nestedTuple for item in sublist]"
   ]
  },
  {
   "cell_type": "code",
   "execution_count": 42,
   "metadata": {
    "id": "5c-3Y5qqqEMt",
    "tags": []
   },
   "outputs": [
    {
     "name": "stdout",
     "output_type": "stream",
     "text": [
      "(2, 'Lists', 'Tuple')\n"
     ]
    }
   ],
   "source": [
    "#Q13 Access (2,\"Lists\",\"Tuple\") from nestedTuple\n",
    "print(nestedTuple[1][1])"
   ]
  },
  {
   "cell_type": "code",
   "execution_count": 43,
   "metadata": {
    "id": "r_y1-VZTqEMt",
    "tags": []
   },
   "outputs": [
    {
     "name": "stdout",
     "output_type": "stream",
     "text": [
      "Lists\n"
     ]
    }
   ],
   "source": [
    "#Q14 Access the value \"Lists\" from nestedTuple\n",
    "print(nestedTuple[1][1][1])"
   ]
  },
  {
   "cell_type": "code",
   "execution_count": 44,
   "metadata": {
    "id": "VHzYyXPSqEMt",
    "tags": []
   },
   "outputs": [
    {
     "name": "stdout",
     "output_type": "stream",
     "text": [
      "Tuple\n"
     ]
    }
   ],
   "source": [
    "#Q15 Access the value \"Tuple\" from nestedTuple\n",
    "print(nestedTuple[1][1][2])"
   ]
  },
  {
   "cell_type": "code",
   "execution_count": 45,
   "metadata": {
    "id": "WOo8y4LXqEMt",
    "tags": []
   },
   "outputs": [
    {
     "name": "stdout",
     "output_type": "stream",
     "text": [
      "course\n"
     ]
    }
   ],
   "source": [
    "#Q16 Access the value \"course\" from nestedTuple\n",
    "print(nestedTuple[0][1])"
   ]
  },
  {
   "cell_type": "code",
   "execution_count": 46,
   "metadata": {
    "id": "VJGQF3nQqEMt",
    "tags": []
   },
   "outputs": [
    {
     "name": "stdout",
     "output_type": "stream",
     "text": [
      "(('Coursera', 'course', 6), ('week', (2, 'Lists', 'Tuple')), 'NPower', 'JDA', 'Tuesday', 30, 3, 2021)\n"
     ]
    }
   ],
   "source": [
    "#Q17 Concatenate myTuple with nestedTuple\n",
    "nestedTuple = nestedTuple + myTuple;\n",
    "print(nestedTuple)"
   ]
  },
  {
   "cell_type": "code",
   "execution_count": 55,
   "metadata": {
    "id": "DbiUlor1qEMt",
    "tags": []
   },
   "outputs": [
    {
     "name": "stdout",
     "output_type": "stream",
     "text": [
      "(('Coursera', 'course', 6), ('week', (2, 'Lists', 'Tuple')), 'NPower', 'JDA', 'Tuesday', 30, 3, 2021, 'Xiao Wang')\n"
     ]
    }
   ],
   "source": [
    "#Q18 add your name to the tuple\n",
    "res = nestedTuple + ('Xiao Wang',)\n",
    "print(res)"
   ]
  },
  {
   "cell_type": "code",
   "execution_count": 56,
   "metadata": {
    "id": "ZrzLT_oqqEMt",
    "tags": []
   },
   "outputs": [
    {
     "name": "stdout",
     "output_type": "stream",
     "text": [
      "Not in tuple\n"
     ]
    }
   ],
   "source": [
    "#Q19 check whether Coursera exists within  myTuple\n",
    "\n",
    "# NOTE \"in\" doesn't work properly with nested tuples\n",
    "if 'Coursera' in myTuple:\n",
    "    print(\"In tuple\")\n",
    "else:\n",
    "    print(\"Not in tuple\")"
   ]
  },
  {
   "cell_type": "code",
   "execution_count": 58,
   "metadata": {
    "id": "f2uQPun5qEMt",
    "tags": []
   },
   "outputs": [
    {
     "name": "stdout",
     "output_type": "stream",
     "text": [
      "True\n"
     ]
    }
   ],
   "source": [
    "#Q20 check whether 55 exists within testTuple\n",
    "testTuple=(1,2,33,55,6,55)\n",
    "print(55 in testTuple)"
   ]
  },
  {
   "cell_type": "code",
   "execution_count": 59,
   "metadata": {
    "id": "xYofw1sgqEMu",
    "tags": []
   },
   "outputs": [
    {
     "name": "stdout",
     "output_type": "stream",
     "text": [
      "1\n"
     ]
    }
   ],
   "source": [
    "#Q21 Find the index of JDA in myTuple\n",
    "# Find the index of 'Coursera' in myTuple\n",
    "# NOTE index doesn't work properly with nested tuples # Wrong output\n",
    "print(myTuple.index('JDA'))"
   ]
  },
  {
   "cell_type": "code",
   "execution_count": 61,
   "metadata": {
    "id": "voqTRkSSqEMu",
    "tags": []
   },
   "outputs": [
    {
     "name": "stdout",
     "output_type": "stream",
     "text": [
      "Out of range\n"
     ]
    }
   ],
   "source": [
    "#Q22 print index 8 from myTuple\n",
    "try:\n",
    "    print(myTuple[8])\n",
    "except IndexError:\n",
    "    print(\"Out of range\")"
   ]
  },
  {
   "cell_type": "code",
   "execution_count": 65,
   "metadata": {
    "id": "hrTWc-esqEMu",
    "tags": []
   },
   "outputs": [
    {
     "name": "stdout",
     "output_type": "stream",
     "text": [
      "30\n",
      "Tuesday\n"
     ]
    }
   ],
   "source": [
    "#Q23 Get the 4th element from the begining of myTuple\n",
    "#and 4th element from last of a myTuple\n",
    "print(myTuple[3])\n",
    "print(myTuple[-4])"
   ]
  },
  {
   "cell_type": "code",
   "execution_count": 67,
   "metadata": {
    "id": "cAGpxQ4ZqEMu",
    "tags": []
   },
   "outputs": [
    {
     "name": "stdout",
     "output_type": "stream",
     "text": [
      "2\n"
     ]
    }
   ],
   "source": [
    "#Q24 Find how many times 55 appeared in testTuple [Hint: Use method count()]\n",
    "print(testTuple.count(55))"
   ]
  }
 ],
 "metadata": {
  "colab": {
   "provenance": [
    {
     "file_id": "1NaVPY_0V0wW0_XAVj4XhGGEsLBZV-abH",
     "timestamp": 1696607315516
    },
    {
     "file_id": "1kQ9bkguDZtWghcCo-o37WpDFDzyCFDCQ",
     "timestamp": 1696607017675
    }
   ]
  },
  "kernelspec": {
   "display_name": "Python",
   "language": "python",
   "name": "conda-env-python-py"
  },
  "language_info": {
   "codemirror_mode": {
    "name": "ipython",
    "version": 3
   },
   "file_extension": ".py",
   "mimetype": "text/x-python",
   "name": "python",
   "nbconvert_exporter": "python",
   "pygments_lexer": "ipython3",
   "version": "3.7.12"
  }
 },
 "nbformat": 4,
 "nbformat_minor": 4
}
