{
 "cells": [
  {
   "cell_type": "markdown",
   "metadata": {
    "id": "sVOFSI7JpHwi"
   },
   "source": [
    "# Python Dictionary Exercises"
   ]
  },
  {
   "cell_type": "code",
   "execution_count": 47,
   "metadata": {
    "colab": {
     "base_uri": "https://localhost:8080/"
    },
    "executionInfo": {
     "elapsed": 368,
     "status": "ok",
     "timestamp": 1696611153875,
     "user": {
      "displayName": "Austin Mok",
      "userId": "03456841137420818932"
     },
     "user_tz": 240
    },
    "id": "tpVYXiTQpHwt",
    "outputId": "3626a311-35f6-492c-ea25-00b7bd955d30",
    "tags": []
   },
   "outputs": [
    {
     "name": "stdout",
     "output_type": "stream",
     "text": [
      "{'X': 'Xiao', 'A': 'Austin', 'D': 'Deepthy', 'J': 'Janki,Jay,Jeremiah', 'N': 'Nam', 'Z': 'Zelalem'}\n"
     ]
    }
   ],
   "source": [
    "#Q1 Create a dictionary for all participants in the JDA program.\n",
    "#Keys should be the first letter in their names,\n",
    "#Values should be their names.\n",
    "#[Hint] dic={\"l\":(Leul),\"J\":(Jerry,Jainam)........}\n",
    "\n",
    "members_in_group = (\"Xiao\", \"Austin\", \"Deepthy\", \"Janki\", \"Jay\", \"Jeremiah\", \"Nam\", \"Zelalem\")\n",
    "members_in_group2 = {};\n",
    "for name in members_in_group:\n",
    "    key = name[0]\n",
    "    if key.isupper() == False:\n",
    "        key = upper(key)\n",
    "    if members_in_group2.get(key):\n",
    "        members_in_group2[key] = members_in_group2[key] + \",\" + name\n",
    "    else:\n",
    "        members_in_group2[key] = name\n",
    "print(members_in_group2)"
   ]
  },
  {
   "cell_type": "code",
   "execution_count": 48,
   "metadata": {
    "colab": {
     "base_uri": "https://localhost:8080/"
    },
    "executionInfo": {
     "elapsed": 113,
     "status": "ok",
     "timestamp": 1696611298047,
     "user": {
      "displayName": "Austin Mok",
      "userId": "03456841137420818932"
     },
     "user_tz": 240
    },
    "id": "Jrf0JIyqpHwu",
    "outputId": "d7a44b69-9d2b-4977-cd07-41fee7caa8ce",
    "tags": []
   },
   "outputs": [
    {
     "name": "stdout",
     "output_type": "stream",
     "text": [
      "dict_keys(['X', 'A', 'D', 'J', 'N', 'Z'])\n"
     ]
    }
   ],
   "source": [
    "#Q2 What are the keys of your dictionary\n",
    "print(members_in_group2.keys())"
   ]
  },
  {
   "cell_type": "code",
   "execution_count": 49,
   "metadata": {
    "colab": {
     "base_uri": "https://localhost:8080/"
    },
    "executionInfo": {
     "elapsed": 115,
     "status": "ok",
     "timestamp": 1696611316304,
     "user": {
      "displayName": "Austin Mok",
      "userId": "03456841137420818932"
     },
     "user_tz": 240
    },
    "id": "CYUr_QbBpHwu",
    "outputId": "f80c1b40-5304-49bd-cb06-1fb261378533",
    "tags": []
   },
   "outputs": [
    {
     "name": "stdout",
     "output_type": "stream",
     "text": [
      "dict_values(['Xiao', 'Austin', 'Deepthy', 'Janki,Jay,Jeremiah', 'Nam', 'Zelalem'])\n"
     ]
    }
   ],
   "source": [
    "#Q3 What are the values of your dictionary\n",
    "print(members_in_group2.values())"
   ]
  },
  {
   "cell_type": "code",
   "execution_count": 51,
   "metadata": {
    "id": "98wsAuZepHwu",
    "tags": []
   },
   "outputs": [
    {
     "name": "stdout",
     "output_type": "stream",
     "text": [
      "['Austin', 'Janki,Jay,Jeremiah']\n"
     ]
    }
   ],
   "source": [
    "#Q4 Find participant's names that start with J,I,M,C,A  (use of startswith() function , and search in d.items())\n",
    "import fnmatch\n",
    "pattern = '[JIMCA]*'\n",
    "print(fnmatch.filter(members_in_group2.values(), pattern))"
   ]
  },
  {
   "cell_type": "code",
   "execution_count": 52,
   "metadata": {
    "id": "7fKI4NExpHwu",
    "tags": []
   },
   "outputs": [
    {
     "name": "stdout",
     "output_type": "stream",
     "text": [
      "{'X': 'Xiao', 'A': 'Austin', 'D': 'Deepthy', 'J': 'Janki,Jay,Jeremiah', 'N': 'Nam', 'Z': 'Zelalem', 'K,PD': 'Kristina'}\n"
     ]
    }
   ],
   "source": [
    "#Q5 Add the following to your dictionary\n",
    "# Key<(K,PD)>, Value<(Kristina)>\n",
    "members_in_group2['K,PD'] = \"Kristina\"\n",
    "print(members_in_group2)"
   ]
  },
  {
   "cell_type": "code",
   "execution_count": 66,
   "metadata": {
    "id": "3DZDVTGepHwu",
    "tags": []
   },
   "outputs": [
    {
     "data": {
      "text/plain": [
       "6"
      ]
     },
     "execution_count": 66,
     "metadata": {},
     "output_type": "execute_result"
    }
   ],
   "source": [
    "#Q6 Find the length of your dictionary\n",
    "len(members_in_group2)"
   ]
  },
  {
   "cell_type": "code",
   "execution_count": 54,
   "metadata": {
    "id": "eT6uh6oCpHwv",
    "tags": []
   },
   "outputs": [
    {
     "name": "stdout",
     "output_type": "stream",
     "text": [
      "{'X': 'Xiao', 'A': 'Austin', 'D': 'Deepthy', 'J': 'Janki,Jay,Jeremiah', 'N': 'Nam', 'Z': 'Zelalem', 'K,PD': 'Kristina', 'S,Instructor': 'Sarah'}\n"
     ]
    }
   ],
   "source": [
    "#Q7 Add the following to your dictionary\n",
    "# Key<(S,Instructor)>, Value<(Sarah)>\n",
    "members_in_group2['S,Instructor'] = \"Sarah\"\n",
    "print(members_in_group2)"
   ]
  },
  {
   "cell_type": "code",
   "execution_count": 55,
   "metadata": {
    "id": "2ybFG6PPpHwv",
    "tags": []
   },
   "outputs": [
    {
     "data": {
      "text/plain": [
       "8"
      ]
     },
     "execution_count": 55,
     "metadata": {},
     "output_type": "execute_result"
    }
   ],
   "source": [
    "#Q8 Find the length of your dictionary\n",
    "len(members_in_group2)"
   ]
  },
  {
   "cell_type": "code",
   "execution_count": 59,
   "metadata": {
    "id": "minqx6tVpHwv",
    "tags": []
   },
   "outputs": [
    {
     "name": "stdout",
     "output_type": "stream",
     "text": [
      "{'X': 'Xiao', 'A': 'Austin', 'D': 'Deepthy', 'N': 'Nam', 'Z': 'Zelalem', 'K,PD': 'Kristina'}\n"
     ]
    }
   ],
   "source": [
    "#Q7 Delete the following keys from your dictionary\n",
    "#Key<(S,Instructor)>\n",
    "#Key<J>\n",
    "del members_in_group2['S,Instructor']\n",
    "del members_in_group2['J']\n",
    "print(members_in_group2)"
   ]
  },
  {
   "cell_type": "code",
   "execution_count": 60,
   "metadata": {
    "id": "O-_6aN8hpHwv",
    "tags": []
   },
   "outputs": [
    {
     "data": {
      "text/plain": [
       "6"
      ]
     },
     "execution_count": 60,
     "metadata": {},
     "output_type": "execute_result"
    }
   ],
   "source": [
    "#Q9 Find the length of your dictionary\n",
    "len(members_in_group2)"
   ]
  },
  {
   "cell_type": "code",
   "execution_count": 68,
   "metadata": {
    "id": "5lXIWEu_pHwv",
    "tags": []
   },
   "outputs": [],
   "source": [
    "#Q10 Create a new dictionary called synonyms_dic\n",
    "synonyms_dic = {}"
   ]
  },
  {
   "cell_type": "code",
   "execution_count": 96,
   "metadata": {
    "id": "Q6XnfGGdpHwv",
    "tags": []
   },
   "outputs": [
    {
     "name": "stdout",
     "output_type": "stream",
     "text": [
      "{0: 'Bad', 1: 'Good', 2: 'Awesome', 3: 'Cold', 4: 'Easy', 5: 'Hard', 6: 'Big', 7: 'Small'}\n"
     ]
    }
   ],
   "source": [
    "#Q11 Add the synonyms of the following words to your dictionary\n",
    "#Bad, Good, Awesome, Cold, Easy, Hard, Big, Small\n",
    "synonyms = (\"Bad\", \"Good\", \"Awesome\", \"Cold\", \"Easy\", \"Hard\", \"Big\", \"Small\");\n",
    "length = len(synonyms)\n",
    "for x in range(0,length):\n",
    "    synonyms_dic[x] = synonyms[x]\n",
    "print(synonyms_dic)"
   ]
  },
  {
   "cell_type": "code",
   "execution_count": 115,
   "metadata": {
    "id": "8Rcqz8eSpHww",
    "tags": []
   },
   "outputs": [
    {
     "name": "stdout",
     "output_type": "stream",
     "text": [
      "2\n",
      "4\n",
      "7\n",
      "Not in dict\n"
     ]
    }
   ],
   "source": [
    "#Q12 Use your dictionary to find the synonym of the following words\n",
    "# Awesome, Easy, Small, Old\n",
    "search = (\"Awesome\", \"Easy\", \"Small\", \"Old\")\n",
    "symp_list = list(synonyms_dic.values())\n",
    "for symp in search:\n",
    "    try:\n",
    "        print(list(synonyms_dic.keys())[list(synonyms_dic.values()).index(symp)])\n",
    "    except:\n",
    "        print(\"Not in dict\")"
   ]
  },
  {
   "cell_type": "code",
   "execution_count": 70,
   "metadata": {
    "id": "J2af_x7NpHww",
    "tags": []
   },
   "outputs": [],
   "source": [
    "#Q13 Delete everything from synonyms_dic\n",
    "synonyms_dic = {}"
   ]
  },
  {
   "cell_type": "code",
   "execution_count": 72,
   "metadata": {
    "id": "swUpxaHzpHww",
    "tags": []
   },
   "outputs": [
    {
     "name": "stdout",
     "output_type": "stream",
     "text": [
      "dict_values([])\n"
     ]
    }
   ],
   "source": [
    "#Q14 Print all values in synonyms_dic\n",
    "print(synonyms_dic.values())"
   ]
  },
  {
   "cell_type": "code",
   "execution_count": 80,
   "metadata": {
    "id": "EHVRmM0ypHww",
    "tags": []
   },
   "outputs": [
    {
     "name": "stdout",
     "output_type": "stream",
     "text": [
      "{'True': 1, 'False': 0}\n"
     ]
    }
   ],
   "source": [
    "#Q15 Convert the below two lists into dictionary\n",
    "Keys=[\"True\",\"False\"]\n",
    "Values=[1,0]\n",
    "dict1 = {}\n",
    "for idx,x in enumerate(Keys):\n",
    "    dict1[x] = Values[idx]\n",
    "print(dict1)"
   ]
  },
  {
   "cell_type": "code",
   "execution_count": 81,
   "metadata": {
    "id": "A3485jtupHww",
    "tags": []
   },
   "outputs": [
    {
     "name": "stdout",
     "output_type": "stream",
     "text": [
      "4480\n"
     ]
    }
   ],
   "source": [
    "#Q16 Sum all the values in the following dictionary\n",
    "income={'Jan':1000,'Feb':1500,'Mar':980,'April':1000}\n",
    "print(sum(income.values()))"
   ]
  },
  {
   "cell_type": "code",
   "execution_count": 92,
   "metadata": {
    "id": "vU8C859SpHww",
    "tags": []
   },
   "outputs": [
    {
     "name": "stdout",
     "output_type": "stream",
     "text": [
      "['I', 'am', 'hungry', ',', 'I', 'want', 'to', 'eat']\n"
     ]
    }
   ],
   "source": [
    "#Q17 Create the following dictionary\n",
    "#encryption=\n",
    "#{10:\"hungry\",101:\"am\",110:\"I\",1011:\",\",1101:\"eat\",1001:\"want\",111:\"to\"}\n",
    "# What should be the decryption of the following code\n",
    "#\"110 101 10 1011 110 1001 111 1101\"\n",
    "encryption={10:\"hungry\",101:\"am\",110:\"I\",1011:\",\",1101:\"eat\",1001:\"want\",111:\"to\"}\n",
    "encry_str = \"110 101 10 1011 110 1001 111 1101\"\n",
    "res = encry_str.split(\" \")\n",
    "decry_res = ''\n",
    "for x in enumerate(res):\n",
    "    res[x[0]] = encryption[int(x[1])]\n",
    "print(res)"
   ]
  }
 ],
 "metadata": {
  "colab": {
   "provenance": [
    {
     "file_id": "1jzn8l9KFLDU1NwieJBuQMYFBOGEH1lmM",
     "timestamp": 1696607353435
    },
    {
     "file_id": "1x1K2wk_V0ZycgpyTUQWS5v06St2wKSxU",
     "timestamp": 1696606846029
    }
   ]
  },
  "kernelspec": {
   "display_name": "Python",
   "language": "python",
   "name": "conda-env-python-py"
  },
  "language_info": {
   "codemirror_mode": {
    "name": "ipython",
    "version": 3
   },
   "file_extension": ".py",
   "mimetype": "text/x-python",
   "name": "python",
   "nbconvert_exporter": "python",
   "pygments_lexer": "ipython3",
   "version": "3.7.12"
  }
 },
 "nbformat": 4,
 "nbformat_minor": 4
}
