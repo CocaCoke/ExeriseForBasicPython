{
 "cells": [
  {
   "cell_type": "markdown",
   "metadata": {
    "id": "yCI-4iWOsK3Y"
   },
   "source": [
    "# Conditions & Loops Exercises"
   ]
  },
  {
   "cell_type": "code",
   "execution_count": 1,
   "metadata": {
    "colab": {
     "base_uri": "https://localhost:8080/"
    },
    "executionInfo": {
     "elapsed": 107,
     "status": "ok",
     "timestamp": 1696611737121,
     "user": {
      "displayName": "Austin Mok",
      "userId": "03456841137420818932"
     },
     "user_tz": 240
    },
    "id": "y1OWkQzssK3c",
    "outputId": "2e9ef4c1-a247-4a3d-e34a-7c36b17d924b",
    "tags": []
   },
   "outputs": [
    {
     "name": "stdout",
     "output_type": "stream",
     "text": [
      "70\n"
     ]
    }
   ],
   "source": [
    "#Q1 Given two integer numbers.\n",
    "#If any of the numbers are greater than 50 return their product,\n",
    "#else return their sum\n",
    "number1 = 20\n",
    "number2 = 50\n",
    "x = 1\n",
    "if number1 > 50:\n",
    "    x = 0\n",
    "    print(number1)\n",
    "if number2 > 50:\n",
    "    x = 0\n",
    "    print(number2)\n",
    "if x:\n",
    "    print(number1 + number2)"
   ]
  },
  {
   "cell_type": "code",
   "execution_count": 2,
   "metadata": {
    "colab": {
     "base_uri": "https://localhost:8080/"
    },
    "executionInfo": {
     "elapsed": 114,
     "status": "ok",
     "timestamp": 1696607913783,
     "user": {
      "displayName": "Austin Mok",
      "userId": "03456841137420818932"
     },
     "user_tz": 240
    },
    "id": "HmHOWC-LsK3e",
    "outputId": "6991750f-a5a0-411a-e583-e2da447479f2",
    "tags": []
   },
   "outputs": [
    {
     "name": "stdout",
     "output_type": "stream",
     "text": [
      "True\n"
     ]
    }
   ],
   "source": [
    "#Q2 Given a list of numbers,\n",
    "#return True if first and last number of a list is same\n",
    "list=[1,2,5,4,1]\n",
    "print(list[0] == list[-1])"
   ]
  },
  {
   "cell_type": "code",
   "execution_count": 3,
   "metadata": {
    "colab": {
     "base_uri": "https://localhost:8080/"
    },
    "executionInfo": {
     "elapsed": 176,
     "status": "ok",
     "timestamp": 1696609613424,
     "user": {
      "displayName": "Austin Mok",
      "userId": "03456841137420818932"
     },
     "user_tz": 240
    },
    "id": "umjb0R6WsK3e",
    "outputId": "ed9b3e05-bddc-4661-9c75-84a0afc1fbac",
    "tags": []
   },
   "outputs": [
    {
     "name": "stdout",
     "output_type": "stream",
     "text": [
      "1\n",
      "3\n",
      "5\n",
      "7\n",
      "9\n",
      "11\n",
      "13\n",
      "15\n",
      "17\n",
      "19\n"
     ]
    }
   ],
   "source": [
    "#Q3 Given a range of the first 10 numbers[1:10],\n",
    "#Iterate from the start number to the end number,\n",
    "#and In each iteration print the sum of the current number and previous number\n",
    "pre = 0\n",
    "for cur in range(1,11):\n",
    "    print(pre + cur)\n",
    "    pre = cur"
   ]
  },
  {
   "cell_type": "code",
   "execution_count": 5,
   "metadata": {
    "colab": {
     "base_uri": "https://localhost:8080/"
    },
    "executionInfo": {
     "elapsed": 105,
     "status": "ok",
     "timestamp": 1696610602488,
     "user": {
      "displayName": "Austin Mok",
      "userId": "03456841137420818932"
     },
     "user_tz": 240
    },
    "id": "CumBQ4A7sK3f",
    "outputId": "e9d4cfe5-7ff8-44b4-e204-8e8b124e3059",
    "tags": []
   },
   "outputs": [
    {
     "name": "stdout",
     "output_type": "stream",
     "text": [
      "Pwraaa\n"
     ]
    }
   ],
   "source": [
    "#Q4 Given a string name,\n",
    "#display only those characters which are present at an even index number\n",
    "name=\"NPowerCanada\"\n",
    "res = \"\"\n",
    "for x in enumerate(name):\n",
    "    if(x[0] % 2 == 1):\n",
    "        res = res + x[1]\n",
    "print(res)"
   ]
  },
  {
   "cell_type": "code",
   "execution_count": 7,
   "metadata": {
    "colab": {
     "base_uri": "https://localhost:8080/"
    },
    "executionInfo": {
     "elapsed": 116,
     "status": "ok",
     "timestamp": 1696609892037,
     "user": {
      "displayName": "Austin Mok",
      "userId": "03456841137420818932"
     },
     "user_tz": 240
    },
    "id": "WT03fV0WsK3f",
    "outputId": "4fdb968e-6a05-4006-bcd7-be23f3431f1b",
    "tags": []
   },
   "outputs": [
    {
     "name": "stdout",
     "output_type": "stream",
     "text": [
      "ourse\n"
     ]
    }
   ],
   "source": [
    "#Q5 Given a string oldString and an integer number n,\n",
    "#remove characters from a string starting from zero up to n\n",
    "#and return a newString\n",
    "oldString=\"PythonCourse\"\n",
    "newString=\"\"\n",
    "n=6\n",
    "for x in enumerate(oldString):\n",
    "    if(x[0] > n):\n",
    "        newString = newString + x[1]\n",
    "print(newString)"
   ]
  },
  {
   "cell_type": "code",
   "execution_count": 9,
   "metadata": {
    "colab": {
     "base_uri": "https://localhost:8080/"
    },
    "executionInfo": {
     "elapsed": 156,
     "status": "ok",
     "timestamp": 1696609973243,
     "user": {
      "displayName": "Austin Mok",
      "userId": "03456841137420818932"
     },
     "user_tz": 240
    },
    "id": "zP4fSv9FsK3g",
    "outputId": "4608fafb-9fb6-4366-fcfc-b5e78016b2b8",
    "tags": []
   },
   "outputs": [
    {
     "name": "stdout",
     "output_type": "stream",
     "text": [
      "*\n",
      "**\n",
      "***\n",
      "****\n"
     ]
    }
   ],
   "source": [
    "#Q6 Print the follwoing pattern\n",
    "\n",
    "#*\n",
    "#**\n",
    "#***\n",
    "#****\n",
    "for x in range(1,5):\n",
    "    print(x*\"*\")"
   ]
  },
  {
   "cell_type": "code",
   "execution_count": 10,
   "metadata": {
    "colab": {
     "base_uri": "https://localhost:8080/"
    },
    "executionInfo": {
     "elapsed": 2,
     "status": "ok",
     "timestamp": 1696610345581,
     "user": {
      "displayName": "Austin Mok",
      "userId": "03456841137420818932"
     },
     "user_tz": 240
    },
    "id": "QbpPFHQosK3g",
    "outputId": "7670323c-01a2-442f-90c2-de8bb31e4359",
    "tags": []
   },
   "outputs": [
    {
     "name": "stdout",
     "output_type": "stream",
     "text": [
      "[80, 60, 50, 70, 90]\n"
     ]
    }
   ],
   "source": [
    "#Q7 Reverse the following list using for loop\n",
    "list1=[90,70,50,60,80]\n",
    "index = 0\n",
    "length = len(list1)\n",
    "while(index < length / 2):\n",
    "    temp = list1[index]\n",
    "    list1[index] = list1[length - index - 1]\n",
    "    list1[length - index - 1] = temp;\n",
    "    index = index + 1\n",
    "print(list1)"
   ]
  },
  {
   "cell_type": "code",
   "execution_count": 11,
   "metadata": {
    "colab": {
     "base_uri": "https://localhost:8080/"
    },
    "executionInfo": {
     "elapsed": 146,
     "status": "ok",
     "timestamp": 1696611497073,
     "user": {
      "displayName": "Austin Mok",
      "userId": "03456841137420818932"
     },
     "user_tz": 240
    },
    "id": "WNIVS8gGsK3h",
    "outputId": "2e3771e7-d884-4a12-c7c1-0f0adbce5002",
    "tags": []
   },
   "outputs": [
    {
     "name": "stdout",
     "output_type": "stream",
     "text": [
      "-10\n",
      "-9\n",
      "-8\n",
      "-7\n",
      "-6\n",
      "-5\n",
      "-4\n",
      "-3\n",
      "-2\n",
      "-1\n"
     ]
    }
   ],
   "source": [
    "#Q8 Display numbers from -10 to -1 using for loop\n",
    "#[hint use range method]\n",
    "x = -10\n",
    "while(x <= -1):\n",
    "    print(x)\n",
    "    x = x + 1"
   ]
  }
 ],
 "metadata": {
  "colab": {
   "provenance": [
    {
     "file_id": "17IeXmkAPh_n8wxxK_Pugz_kn-Ifh2fMh",
     "timestamp": 1696607585120
    },
    {
     "file_id": "1kvPR4G29MDfWcRZOqhaypKap0dn0IhKu",
     "timestamp": 1696607558462
    }
   ]
  },
  "kernelspec": {
   "display_name": "Python",
   "language": "python",
   "name": "conda-env-python-py"
  },
  "language_info": {
   "codemirror_mode": {
    "name": "ipython",
    "version": 3
   },
   "file_extension": ".py",
   "mimetype": "text/x-python",
   "name": "python",
   "nbconvert_exporter": "python",
   "pygments_lexer": "ipython3",
   "version": "3.7.12"
  }
 },
 "nbformat": 4,
 "nbformat_minor": 4
}
