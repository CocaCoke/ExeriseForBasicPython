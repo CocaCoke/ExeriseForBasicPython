{
 "cells": [
  {
   "cell_type": "markdown",
   "metadata": {
    "id": "_f-Y_p3Pp59T"
   },
   "source": [
    "# Python Lists Exercises"
   ]
  },
  {
   "cell_type": "code",
   "execution_count": 1,
   "metadata": {
    "id": "aoWRCjmFp59V",
    "tags": []
   },
   "outputs": [],
   "source": [
    "#Q1 Create a tuple with all participant names in the JDA program\n",
    "members_in_group = (\"Xiao\", \"Austin\", \"Deepthy\", \"Janki\", \"Jay\", \"Jeremiah\", \"Nam\", \"Zelalem\")"
   ]
  },
  {
   "cell_type": "code",
   "execution_count": 3,
   "metadata": {
    "id": "JL86Nghnp59W",
    "tags": []
   },
   "outputs": [
    {
     "name": "stdout",
     "output_type": "stream",
     "text": [
      "<class 'list'>\n"
     ]
    }
   ],
   "source": [
    "#Q2 Convert the tuple into a list called pps_L\n",
    "pps_L = list(members_in_group)\n",
    "print(type(pps_L))"
   ]
  },
  {
   "cell_type": "code",
   "execution_count": 4,
   "metadata": {
    "id": "oUWL2Hiyp59X",
    "tags": []
   },
   "outputs": [
    {
     "name": "stdout",
     "output_type": "stream",
     "text": [
      "8\n"
     ]
    }
   ],
   "source": [
    "#Q3 What is the length of your list\n",
    "print(len(pps_L))"
   ]
  },
  {
   "cell_type": "code",
   "execution_count": 7,
   "metadata": {
    "id": "EjOxH0Dzp59X",
    "tags": []
   },
   "outputs": [
    {
     "name": "stdout",
     "output_type": "stream",
     "text": [
      "Janki\n",
      "Jeremiah\n",
      "Not in the list\n",
      "Not in the list\n",
      "Not in the list\n"
     ]
    }
   ],
   "source": [
    "#Q4 Find the values stored in indexes [3],[5],[14],[30],[38]\n",
    "nums = [3,5,14,30,38]\n",
    "for x in nums:\n",
    "    try:\n",
    "        print(pps_L[x])\n",
    "    except:\n",
    "        print(\"Not in the list\")"
   ]
  },
  {
   "cell_type": "code",
   "execution_count": 8,
   "metadata": {
    "id": "y261hZ8Wp59X",
    "tags": []
   },
   "outputs": [
    {
     "name": "stdout",
     "output_type": "stream",
     "text": [
      "Not in the list\n"
     ]
    }
   ],
   "source": [
    "#Q5 Check if \"Sarah\" is in the list\n",
    "try:\n",
    "    print(pps_L.index(\"Sarah\"))\n",
    "except:\n",
    "    print(\"Not in the list\")"
   ]
  },
  {
   "cell_type": "code",
   "execution_count": 9,
   "metadata": {
    "id": "cFWlXdfrp59Y",
    "tags": []
   },
   "outputs": [
    {
     "name": "stdout",
     "output_type": "stream",
     "text": [
      "['Xiao', 'Austin', 'Deepthy', 'Janki', 'Jay', 'Jeremiah', 'Nam', 'Zelalem', 'Sarah']\n"
     ]
    }
   ],
   "source": [
    "#Q6 Add \"Sarah\" to your list\n",
    "pps_L.append(\"Sarah\")\n",
    "print(pps_L)"
   ]
  },
  {
   "cell_type": "code",
   "execution_count": 10,
   "metadata": {
    "id": "MxNgfYpUp59Y",
    "tags": []
   },
   "outputs": [
    {
     "name": "stdout",
     "output_type": "stream",
     "text": [
      "Not in the list\n"
     ]
    }
   ],
   "source": [
    "#Q7 Check if \"Bashir\" is in the list\n",
    "try:\n",
    "    print(pps_L.index(\"Bashir\"))\n",
    "except:\n",
    "    print(\"Not in the list\")"
   ]
  },
  {
   "cell_type": "code",
   "execution_count": 13,
   "metadata": {
    "id": "kxQ99s0wp59Y",
    "tags": []
   },
   "outputs": [
    {
     "name": "stdout",
     "output_type": "stream",
     "text": [
      "['Xiao', 'Austin', 'Deepthy', 'Janki', 'Jay', 'Jeremiah', 'Nam', 'Zelalem', 'Sarah', 'Bashir']\n"
     ]
    }
   ],
   "source": [
    "#Q9 Add \"Bashir\" to your list\n",
    "pps_L.append(\"Bashir\")\n",
    "print(pps_L)"
   ]
  },
  {
   "cell_type": "code",
   "execution_count": 14,
   "metadata": {
    "id": "JdVaVcsNp59Y",
    "tags": []
   },
   "outputs": [
    {
     "name": "stdout",
     "output_type": "stream",
     "text": [
      "8\n"
     ]
    }
   ],
   "source": [
    "#Q10 Find the index of the element \"Sarah\" in the list\n",
    "try:\n",
    "    print(pps_L.index(\"Sarah\"))\n",
    "except:\n",
    "    print(\"Not in the list\")"
   ]
  },
  {
   "cell_type": "code",
   "execution_count": 16,
   "metadata": {
    "id": "A8iElDMwp59Y",
    "tags": []
   },
   "outputs": [
    {
     "name": "stdout",
     "output_type": "stream",
     "text": [
      "Not in the list\n",
      "['Xiao', 'Austin', 'Deepthy', 'Janki', 'Jay', 'Jeremiah', 'Nam', 'Zelalem', 'Instructor', 'Bashir']\n"
     ]
    }
   ],
   "source": [
    "#Q11 Change the value of the index in Q10 from \"Sarah\" to \"Instructor\"\n",
    "try:\n",
    "    pps_L[pps_L.index(\"Sarah\")] = \"Instructor\"\n",
    "except:\n",
    "    print(\"Not in the list\")\n",
    "finally:\n",
    "    print(pps_L)"
   ]
  },
  {
   "cell_type": "code",
   "execution_count": 17,
   "metadata": {
    "id": "rlEoYzi3p59Z",
    "tags": []
   },
   "outputs": [
    {
     "name": "stdout",
     "output_type": "stream",
     "text": [
      "9\n"
     ]
    }
   ],
   "source": [
    "#Q12 Find the index of the element \"Bashir\" in the list\n",
    "try:\n",
    "    print(pps_L.index(\"Bashir\"))\n",
    "except:\n",
    "    print(\"Not in the list\")"
   ]
  },
  {
   "cell_type": "code",
   "execution_count": 18,
   "metadata": {
    "id": "PrTnr8dap59Z",
    "tags": []
   },
   "outputs": [
    {
     "name": "stdout",
     "output_type": "stream",
     "text": [
      "['Xiao', 'Austin', 'Deepthy', 'Janki', 'Jay', 'Jeremiah', 'Nam', 'Zelalem', 'Instructor', 'Peer-Mentor']\n"
     ]
    }
   ],
   "source": [
    "#Q13 Change the value of the index in Q12 from \"Bashir\" to \"Peer-Mentor\"\n",
    "try:\n",
    "    pps_L[pps_L.index(\"Bashir\")] = \"Peer-Mentor\"\n",
    "except:\n",
    "    print(\"Not in the list\")\n",
    "finally:\n",
    "    print(pps_L)"
   ]
  }
 ],
 "metadata": {
  "colab": {
   "provenance": [
    {
     "file_id": "1dVjAGxE567KRcnAu89T9AZyCE_rfu32u",
     "timestamp": 1696607345095
    },
    {
     "file_id": "14ExWn7TtZs-mEfmI50a5DPEHDEXunjrQ",
     "timestamp": 1696606958839
    }
   ]
  },
  "kernelspec": {
   "display_name": "Python",
   "language": "python",
   "name": "conda-env-python-py"
  },
  "language_info": {
   "codemirror_mode": {
    "name": "ipython",
    "version": 3
   },
   "file_extension": ".py",
   "mimetype": "text/x-python",
   "name": "python",
   "nbconvert_exporter": "python",
   "pygments_lexer": "ipython3",
   "version": "3.7.12"
  }
 },
 "nbformat": 4,
 "nbformat_minor": 4
}
